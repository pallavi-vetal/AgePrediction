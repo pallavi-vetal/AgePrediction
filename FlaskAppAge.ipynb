{
 "cells": [
  {
   "cell_type": "code",
   "execution_count": null,
   "metadata": {},
   "outputs": [],
   "source": [
    "import os\n",
    "import random\n",
    "import pandas as pd\n",
    "from scipy.misc import imread\n",
    "import matplotlib.pyplot as plt\n",
    "from scipy.misc import imresize\n",
    "import numpy as np\n",
    "import keras\n",
    "from sklearn.preprocessing import LabelEncoder\n",
    "from keras.models import Sequential\n",
    "from keras.layers import Flatten, Dense, InputLayer, Conv2D, MaxPooling2D\n",
    "from werkzeug import secure_filename\n",
    "from flask import Flask, flash , redirect, render_template , request, session, abort , Markup\n",
    "from keras.models import load_model"
   ]
  },
  {
   "cell_type": "code",
   "execution_count": null,
   "metadata": {},
   "outputs": [],
   "source": [
    "app = Flask(__name__)\n",
    "app.secret_key = os.urandom(12)"
   ]
  },
  {
   "cell_type": "code",
   "execution_count": null,
   "metadata": {},
   "outputs": [],
   "source": [
    "UPLOAD_FOLDER = './Uploads'\n",
    "ALLOWED_EXTENSIONS = set(['png', 'jpg', 'jpeg', 'gif'])\n",
    "\n",
    "\n",
    "app.config['UPLOAD_FOLDER'] = UPLOAD_FOLDER"
   ]
  },
  {
   "cell_type": "code",
   "execution_count": null,
   "metadata": {},
   "outputs": [],
   "source": [
    "@app.route('/')\n",
    "def index():\n",
    "        return render_template('index.html')\n"
   ]
  },
  {
   "cell_type": "code",
   "execution_count": null,
   "metadata": {},
   "outputs": [],
   "source": [
    "@app.route('/upload',methods=['POST','GET'])\n",
    "def upload_file():\n",
    "    if request.method == 'POST':\n",
    "        \n",
    "        if 'file' not in request.files:\n",
    "            flash('No file part')\n",
    "            print('No file part')\n",
    "            return redirect(request.url)\n",
    "        file = request.files['file']\n",
    "        print(file.filename)\n",
    "        if file.filename == '':\n",
    "            flash('No selected file')\n",
    "            print('No selected file')\n",
    "            return redirect(request.url)\n",
    "        if file :\n",
    "            filename = secure_filename(file.filename)\n",
    "            file.save(os.path.join(app.config['UPLOAD_FOLDER'], filename))\n",
    "            img = imread(os.path.join(app.config['UPLOAD_FOLDER'], filename))\n",
    "            img = imresize(img,(32,32))\n",
    "            img = img.astype('float32')\n",
    "            img = img/250\n",
    "            model = load_model('ageModel.h5')\n",
    "            # summarize model.\n",
    "            model.summary()\n",
    "            # load dataset\n",
    "            dataset = loadtxt(\"pima-indians-diabetes.csv\", delimiter=\",\")\n",
    "            # split into input (X) and output (Y) variables\n",
    "            X = dataset[:,0:8]\n",
    "            Y = dataset[:,8]\n",
    "            # evaluate the model\n",
    "            score = model.evaluate(X, Y, verbose=0)\n",
    "            print(\"%s: %.2f%%\" % (model.metrics_names[1], score[1]*100))\n",
    "    return render_template('index.html')"
   ]
  },
  {
   "cell_type": "code",
   "execution_count": null,
   "metadata": {},
   "outputs": [
    {
     "name": "stdout",
     "output_type": "stream",
     "text": [
      " * Serving Flask app \"__main__\" (lazy loading)\n",
      " * Environment: production\n",
      "   WARNING: This is a development server. Do not use it in a production deployment.\n",
      "   Use a production WSGI server instead.\n",
      " * Debug mode: off\n"
     ]
    },
    {
     "name": "stderr",
     "output_type": "stream",
     "text": [
      "WARNING: Logging before flag parsing goes to stderr.\n",
      "I0928 14:02:00.356096 139626359715584 _internal.py:122]  * Running on http://127.0.0.1:5000/ (Press CTRL+C to quit)\n",
      "I0928 14:13:40.381165 139625134511872 _internal.py:122] 127.0.0.1 - - [28/Sep/2019 14:13:40] \"\u001b[37mGET / HTTP/1.1\u001b[0m\" 200 -\n",
      "I0928 14:13:44.245322 139625125857024 _internal.py:122] 127.0.0.1 - - [28/Sep/2019 14:13:44] \"\u001b[33mGET /favicon.ico HTTP/1.1\u001b[0m\" 404 -\n"
     ]
    }
   ],
   "source": [
    "if __name__ == \"__main__\":\n",
    "    app.run()"
   ]
  },
  {
   "cell_type": "code",
   "execution_count": null,
   "metadata": {},
   "outputs": [],
   "source": []
  },
  {
   "cell_type": "code",
   "execution_count": null,
   "metadata": {},
   "outputs": [],
   "source": []
  },
  {
   "cell_type": "code",
   "execution_count": null,
   "metadata": {},
   "outputs": [],
   "source": []
  },
  {
   "cell_type": "code",
   "execution_count": null,
   "metadata": {},
   "outputs": [],
   "source": []
  }
 ],
 "metadata": {
  "kernelspec": {
   "display_name": "Python 3",
   "language": "python",
   "name": "python3"
  },
  "language_info": {
   "codemirror_mode": {
    "name": "ipython",
    "version": 3
   },
   "file_extension": ".py",
   "mimetype": "text/x-python",
   "name": "python",
   "nbconvert_exporter": "python",
   "pygments_lexer": "ipython3",
   "version": "3.7.3"
  }
 },
 "nbformat": 4,
 "nbformat_minor": 2
}
