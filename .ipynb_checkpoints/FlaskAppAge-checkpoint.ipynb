{
 "cells": [
  {
   "cell_type": "code",
   "execution_count": 33,
   "metadata": {},
   "outputs": [],
   "source": [
    "import os\n",
    "import random\n",
    "import pandas as pd\n",
    "from scipy.misc import imread\n",
    "import matplotlib.pyplot as plt\n",
    "from scipy.misc import imresize\n",
    "import numpy as np\n",
    "import keras\n",
    "from sklearn.preprocessing import LabelEncoder\n",
    "from keras.models import Sequential\n",
    "from keras.layers import Flatten, Dense, InputLayer, Conv2D, MaxPooling2D\n",
    "from flask import Flask, flash , redirect, render_template , request, session, abort , Markup"
   ]
  },
  {
   "cell_type": "code",
   "execution_count": 34,
   "metadata": {},
   "outputs": [],
   "source": [
    "app = Flask(__name__)\n",
    "app.secret_key = os.urandom(12)"
   ]
  },
  {
   "cell_type": "code",
   "execution_count": 35,
   "metadata": {},
   "outputs": [],
   "source": [
    "UPLOAD_FOLDER = './Uploads'\n",
    "ALLOWED_EXTENSIONS = set(['png', 'jpg', 'jpeg', 'gif'])\n",
    "\n",
    "\n",
    "app.config['UPLOAD_FOLDER'] = UPLOAD_FOLDER"
   ]
  },
  {
   "cell_type": "code",
   "execution_count": 36,
   "metadata": {},
   "outputs": [],
   "source": [
    "@app.route('/')\n",
    "def index():\n",
    "        return render_template('index.html')\n"
   ]
  },
  {
   "cell_type": "code",
   "execution_count": 37,
   "metadata": {},
   "outputs": [],
   "source": [
    "@app.route('/upload',methods=['POST','GET'])\n",
    "def upload_file():\n",
    "    if request.method == 'POST':\n",
    "        \n",
    "        if 'inputImg' not in request.files:\n",
    "            flash('No file part')\n",
    "            print('No file part')\n",
    "            return redirect(request.url)\n",
    "        file = request.files['inputImg']\n",
    "        \n",
    "        if file.filename == '':\n",
    "            flash('No selected file')\n",
    "            print('No selected file')\n",
    "            return redirect(request.url)\n",
    "        if file and allowed_file(file.filename):\n",
    "            filename = secure_filename(file.filename)\n",
    "            file.save(os.path.join(app.config['UPLOAD_FOLDER'], filename))\n",
    "            img = imread(os.path.join(app.config['UPLOAD_FOLDER'], filename))\n",
    "            img = imresize(img,(32,32))\n",
    "            img = img.astype('float32')\n",
    "            \n",
    "    return render_template('index.html')"
   ]
  },
  {
   "cell_type": "code",
   "execution_count": null,
   "metadata": {},
   "outputs": [
    {
     "name": "stdout",
     "output_type": "stream",
     "text": [
      " * Serving Flask app \"__main__\" (lazy loading)\n",
      " * Environment: production\n",
      "   WARNING: This is a development server. Do not use it in a production deployment.\n",
      "   Use a production WSGI server instead.\n",
      " * Debug mode: off\n"
     ]
    },
    {
     "name": "stderr",
     "output_type": "stream",
     "text": [
      "I0922 21:11:07.962571 139764024313600 _internal.py:122]  * Running on http://127.0.0.1:5000/ (Press CTRL+C to quit)\n",
      "I0922 21:11:13.147145 139762799113984 _internal.py:122] 127.0.0.1 - - [22/Sep/2019 21:11:13] \"\u001b[37mGET / HTTP/1.1\u001b[0m\" 200 -\n",
      "I0922 21:11:21.580554 139762799113984 _internal.py:122] 127.0.0.1 - - [22/Sep/2019 21:11:21] \"\u001b[32mPOST /upload HTTP/1.1\u001b[0m\" 302 -\n",
      "I0922 21:11:21.625969 139762799113984 _internal.py:122] 127.0.0.1 - - [22/Sep/2019 21:11:21] \"\u001b[37mGET /upload HTTP/1.1\u001b[0m\" 200 -\n"
     ]
    },
    {
     "name": "stdout",
     "output_type": "stream",
     "text": [
      "No file part\n"
     ]
    },
    {
     "name": "stderr",
     "output_type": "stream",
     "text": [
      "I0922 21:11:37.980126 139762799113984 _internal.py:122] 127.0.0.1 - - [22/Sep/2019 21:11:37] \"\u001b[32mPOST /upload HTTP/1.1\u001b[0m\" 302 -\n",
      "I0922 21:11:38.018327 139762799113984 _internal.py:122] 127.0.0.1 - - [22/Sep/2019 21:11:38] \"\u001b[37mGET /upload HTTP/1.1\u001b[0m\" 200 -\n"
     ]
    },
    {
     "name": "stdout",
     "output_type": "stream",
     "text": [
      "No file part\n"
     ]
    }
   ],
   "source": [
    "if __name__ == \"__main__\":\n",
    "    app.run()"
   ]
  },
  {
   "cell_type": "code",
   "execution_count": null,
   "metadata": {},
   "outputs": [],
   "source": []
  }
 ],
 "metadata": {
  "kernelspec": {
   "display_name": "Python 3",
   "language": "python",
   "name": "python3"
  },
  "language_info": {
   "codemirror_mode": {
    "name": "ipython",
    "version": 3
   },
   "file_extension": ".py",
   "mimetype": "text/x-python",
   "name": "python",
   "nbconvert_exporter": "python",
   "pygments_lexer": "ipython3",
   "version": "3.7.3"
  }
 },
 "nbformat": 4,
 "nbformat_minor": 2
}
