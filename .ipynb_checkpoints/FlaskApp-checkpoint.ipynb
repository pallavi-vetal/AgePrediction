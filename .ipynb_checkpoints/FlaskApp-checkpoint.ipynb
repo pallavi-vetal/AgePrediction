{
 "cells": [
  {
   "cell_type": "code",
   "execution_count": null,
   "metadata": {},
   "outputs": [],
   "source": [
    "from flask import Flask, flash , redirect, render_template , request, session, abort , Markup\n",
    "import os\n",
    "import pandas as pd\n",
    "import numpy as np\n",
    "import tensorflow as tf\n",
    "import keras\n",
    "from keras.models import load_model\n",
    "from keras import backend as K\n",
    "from werkzeug import secure_filename\n",
    "import json\n",
    "from scipy.stats import kurtosis, skew\n",
    "import csv\n",
    "from sklearn.model_selection import train_test_split\n",
    "from sklearn.preprocessing import StandardScaler\n",
    "import pickle"
   ]
  },
  {
   "cell_type": "code",
   "execution_count": null,
   "metadata": {},
   "outputs": [],
   "source": [
    "app = Flask(__name__)\n",
    "app.secret_key = os.urandom(12)\n",
    "\n",
    "dropdown_list = []\n",
    "dropdown_list_2 = []"
   ]
  },
  {
   "cell_type": "code",
   "execution_count": null,
   "metadata": {},
   "outputs": [],
   "source": [
    "@app.route('/upload')\n",
    "def upload_file():\n",
    "    dropdown_list.clear()\n",
    "    dropdown_list_2.clear()\n",
    "    return render_template('upload.html')"
   ]
  },
  {
   "cell_type": "code",
   "execution_count": null,
   "metadata": {},
   "outputs": [],
   "source": [
    "@app.route('/input_percent' , methods = ['GET','POST'])\n",
    "def input_num():\n",
    "    x = request.form[\"in\"]\n",
    "    print(\"dsjfkkdsjf\",x)\n",
    "    fpath = os.path.join(\"default\", \"testtestreason1.csv\")\n",
    "    line = pd.read_csv(fpath).shape[0]\n",
    "    y = round((float(x)*line)/100)\n",
    "    print(line)\n",
    "    print(y)\n",
    "    ls = []\n",
    "    lschurn=[]\n",
    "    with open(fpath) as file:\n",
    "        allRead = csv.reader(file, delimiter=',')\n",
    "        lineCount = 0\n",
    "        for row in allRead:\n",
    "            if lineCount == 0:\n",
    "                lineCount += 1\n",
    "            elif lineCount <= y and lineCount != 0:\n",
    "                ls.append(row[1])\n",
    "                lschurn.append(row[13])\n",
    "                lineCount += 1\n",
    "    lss=list(map(lambda x: float(x*100),list(pd.read_csv(fpath)['Exited'][:y].copy())))  \n",
    "    print(lss)\n",
    "    print(lschurn)\n",
    "    return render_template('Percent.html', outList = ls, value_list=lschurn,values_res=lss )\n"
   ]
  },
  {
   "cell_type": "code",
   "execution_count": 5,
   "metadata": {},
   "outputs": [],
   "source": [
    "@app.route('/check/<string:dropdown>',methods=['POST','GET'])\n",
    "def specific(dropdown):\n",
    "    x = dropdown\n",
    "    yo = predict_default(x)\n",
    "    x = search_default(x)\n",
    "    rownum  = x[0]\n",
    "    ccid = x[1]\n",
    "    surname = x[2]\n",
    "    creditscore  = x[3]\n",
    "    geo = x[4]\n",
    "    gender  = x[5]\n",
    "    age  = x[6]\n",
    "    tenure = x[7]\n",
    "    balance  = x[8]\n",
    "    numpro = x[9]\n",
    "    hascard = x[10]\n",
    "    activemem = x[11]\n",
    "    salary = x[12]    \n",
    "    x = x[13]\n",
    "    pred= float(x)*100\n",
    "    labels = [\"probability\",\"\"]\n",
    "    values = [pred]\n",
    "    labels_res = [\"Excess Documents Required\",\"High Service Charges/Rate of Interest\",\"Inexperienced Staff / Bad customer service\",\"Long Response Times\"]\n",
    "    values_res = [float(i)*100 for i in yo[0]]\n",
    "    x = float(x)*100\n",
    "    x = round(x,2)\n",
    "    values_res[0] = round(values_res[0],2)\n",
    "    values_res[1] = round(values_res[1],2)\n",
    "    values_res[2] = round(values_res[2],2)\n",
    "    values_res[3] = round(values_res[3],2)\n",
    "    colors = [ \"#F7464A\", \"#46BFBD\", \"#FDB45C\" , \"#ABCDEF\"]\n",
    "    return render_template('Chart.html', set=zip(values_res, labels_res, colors),firstname=x, \n",
    "                           rownum=rownum, ccid=ccid, surname=surname, creditscore=creditscore, \n",
    "                           geo=geo, gender=gender, age=age, tenure=tenure, balance=balance, \n",
    "                           numpro=numpro, hascard = hascard, activemem = activemem, salary = salary, secondname = values_res[0] , secondname1 = values_res[1] , secondname2 = values_res[2] , \n",
    "                           secondname3 = values_res[3] ,labels_res=labels_res,values_res=values_res, values=values, labels=labels)"
   ]
  },
  {
   "cell_type": "code",
   "execution_count": 6,
   "metadata": {},
   "outputs": [],
   "source": [
    "def preprocess_data(fileInput):\n",
    "    dataset = pd.read_csv(fileInput)\n",
    "    dataset['Geography'] = dataset['Geography'].astype('category')\n",
    "    dataset['Gender'] = dataset['Gender'].astype('category')\n",
    "    dataset['EstimatedSalary'] = dataset['EstimatedSalary'].astype('float32')\n",
    "    dataset['Balance'] = dataset['Balance'].astype('float32')\n",
    "    cat_columns = dataset.select_dtypes(['category']).columns\n",
    "    dataset[cat_columns] = dataset[cat_columns].apply(lambda x: x.cat.codes)\n",
    "    X = dataset.iloc[:, 3:13].values\n",
    "    Y = dataset.iloc[:, 13].values\n",
    "    sc = StandardScaler()\n",
    "    X_test = sc.fit_transform(X)\n",
    "    return X_test\n",
    "    \n",
    "    "
   ]
  },
  {
   "cell_type": "code",
   "execution_count": 7,
   "metadata": {},
   "outputs": [],
   "source": [
    "@app.route('/')\n",
    "def home():\n",
    "        return render_template('upload.html')\n"
   ]
  },
  {
   "cell_type": "code",
   "execution_count": 8,
   "metadata": {},
   "outputs": [],
   "source": [
    "def uploadFileAndPredict(filename):\n",
    "    K.clear_session()\n",
    "    dropdown_list_2.clear()\n",
    "    proceseed_data = preprocess_data(filename)\n",
    "    predictChurnAndReasons(proceseed_data,filename)\n",
    "    \n",
    "    return proceseed_data          \n",
    "    "
   ]
  },
  {
   "cell_type": "code",
   "execution_count": 9,
   "metadata": {},
   "outputs": [],
   "source": [
    "def predictChurnAndReasons(proceseed_data,filename):\n",
    "    model = pickle.load(open('SVCclassifier.pkl', 'rb'))\n",
    "    y_pred = model.predict_proba(proceseed_data)\n",
    "    df = pd.read_csv(filename)\n",
    "    df['Exited'] = y_pred\n",
    "    df.set_index('RowNumber', inplace=True)\n",
    "    df.sort_values('Exited', ascending=False, inplace=True)\n",
    "    fpathr = os.path.join(\"default\", \"testtestreason1.csv\")\n",
    "    df.to_csv(fpathr)  \n",
    "    return y_pred\n",
    "    \n",
    "    "
   ]
  },
  {
   "cell_type": "code",
   "execution_count": 10,
   "metadata": {},
   "outputs": [],
   "source": [
    "@app.route('/defaultfile', methods = ['GET', 'POST'])\n",
    "def uploader_default_file():\n",
    "    fpath = os.path.join(\"default\", \"testtestdefault1.csv\")\n",
    "    uploadFileAndPredict(fpath)\n",
    "    with open(fpath) as file:\n",
    "        allRead = csv.reader(file, delimiter=',')\n",
    "        lineCount = 0\n",
    "        for row in allRead:\n",
    "            if lineCount==0:\n",
    "                lineCount=lineCount+1\n",
    "            else:\n",
    "                lineCount=lineCount+1\n",
    "                dropdown_list_2.append((row[1]))\n",
    "    return render_template('Result.html',  dropdown_list_2=dropdown_list_2)\n",
    "\n"
   ]
  },
  {
   "cell_type": "code",
   "execution_count": 11,
   "metadata": {},
   "outputs": [],
   "source": [
    "@app.route('/check_default/<string:dropdown_2>',methods=['POST','GET'])\n",
    "def specific_default(dropdown_2):\n",
    "    x = dropdown_2\n",
    "    yo = predict_default(x)\n",
    "    x = search_default(x)\n",
    "    rownum  = x[0]\n",
    "    ccid = x[1]\n",
    "    surname = x[2]\n",
    "    creditscore  = x[3]\n",
    "    geo = x[4]\n",
    "    gender  = x[5]\n",
    "    age  = x[6]\n",
    "    tenure = x[7]\n",
    "    balance  = x[8]\n",
    "    numpro = x[9]\n",
    "    hascard = x[10]\n",
    "    activemem = x[11]\n",
    "    salary = x[12]\n",
    "    x = x[13]\n",
    "    pred= float(x)*100\n",
    "    labels = [\"probability\",\"\"]\n",
    "    values = [pred]\n",
    "    labels_res = [\"Excess Documents Required\",\"High Service Charges/Rate of Interest\",\"Inexperienced Staff / Bad customer service\",\"Long Response Times\"]\n",
    "    values_res = [float(i)*100 for i in yo[0]]\n",
    "    x = float(x)*100\n",
    "    x = round(x,2)\n",
    "    values_res[0] = round(values_res[0],2)\n",
    "    values_res[1] = round(values_res[1],2)\n",
    "    values_res[2] = round(values_res[2],2)\n",
    "    values_res[3] = round(values_res[3],2)\n",
    "    colors = [ \"#F7464A\", \"#46BFBD\", \"#FDB45C\" , \"#ABCDEF\"]\n",
    "    return render_template('Chart.html', set=zip(values_res, labels_res, colors),\n",
    "                           firstname=x, rownum=rownum, ccid=ccid, surname=surname, \n",
    "                           creditscore=creditscore, geo=geo, gender=gender, age=age, \n",
    "                           tenure=tenure, balance=balance, numpro=numpro, hascard = hascard, activemem = activemem, \n",
    "                           salary = salary, secondname = values_res[0] , secondname1 = values_res[1] , \n",
    "                           secondname2 = values_res[2] , secondname3 = values_res[3] ,labels_res=labels_res,\n",
    "                           values_res=values_res, values=values, labels=labels)"
   ]
  },
  {
   "cell_type": "code",
   "execution_count": 12,
   "metadata": {},
   "outputs": [],
   "source": [
    "@app.route(\"/predict_default\", methods=[\"GET\",\"POST\"])\n",
    "def predict_default(z):\n",
    "    K.clear_session()\n",
    "     # output file\n",
    "    cid1 = z \n",
    "    test3 = model_default_2(cid1)\n",
    "    model2 = load_model('my_model2.h5')\n",
    "    model2._make_predict_function()\n",
    "    y_pred2 = model2.predict(test3)\n",
    "    resons=[\"Excess Documents Required\",\"High Service Charges/Rate of Interest\",\"Inexperienced Staff / Bad customer service\",\"Long Response Times\"]\n",
    "    dic=dict()\n",
    "    diff=list()\n",
    "    for j in range(len(y_pred2)):\n",
    "        dic.clear()\n",
    "    for (label, p) in zip(resons, y_pred2[j]):\n",
    "        dic[label]= p*100\n",
    "    diff.append(dic.copy())\n",
    "    j = json.dumps(diff)\n",
    "\n",
    "\n",
    "    return y_pred2"
   ]
  },
  {
   "cell_type": "code",
   "execution_count": 13,
   "metadata": {},
   "outputs": [],
   "source": [
    "def model_default_2(cid1):\n",
    "    \n",
    "    fpathr = os.path.join(\"default\", \"testtestreason1.csv\")\n",
    "    test = pd.read_csv(fpathr)\n",
    "    cid1 = int(cid1)\n",
    "\n",
    "    X_test=test.loc[test['CustomerId']==cid1].values.copy()\n",
    "    X_test=X_test[:, 3:14]\n",
    "    from sklearn.preprocessing import LabelEncoder, OneHotEncoder\n",
    "    labelencoder_X_3 = LabelEncoder()\n",
    "    X_test[:,1] = labelencoder_X_3.fit_transform(X_test[:, 1])\n",
    "    labelencoder_X_4 = LabelEncoder()\n",
    "    X_test[:,2] = labelencoder_X_4.fit_transform(X_test[:, 2])      \n",
    "    from sklearn.preprocessing import StandardScaler\n",
    "    sc = StandardScaler()\n",
    "    X_test = sc.fit_transform(X_test)\n",
    "\n",
    "    return X_test"
   ]
  },
  {
   "cell_type": "code",
   "execution_count": 14,
   "metadata": {},
   "outputs": [],
   "source": [
    "def search_default(cid):\n",
    "    fpathr = os.path.join(\"default\", \"testtestreason1.csv\")\n",
    "    with open(fpathr) as file:\n",
    "        allRead = csv.reader(file, delimiter=',')\n",
    "        for row in allRead:\n",
    "            if row[1]==cid:\n",
    "                return row"
   ]
  },
  {
   "cell_type": "code",
   "execution_count": 15,
   "metadata": {},
   "outputs": [
    {
     "name": "stdout",
     "output_type": "stream",
     "text": [
      " * Serving Flask app \"__main__\" (lazy loading)\n",
      " * Environment: production\n",
      "   WARNING: This is a development server. Do not use it in a production deployment.\n",
      "   Use a production WSGI server instead.\n",
      " * Debug mode: off\n"
     ]
    },
    {
     "ename": "OSError",
     "evalue": "[Errno 98] Address already in use",
     "output_type": "error",
     "traceback": [
      "\u001b[0;31m---------------------------------------------------------------------------\u001b[0m",
      "\u001b[0;31mOSError\u001b[0m                                   Traceback (most recent call last)",
      "\u001b[0;32m<ipython-input-15-66503daf4d3d>\u001b[0m in \u001b[0;36m<module>\u001b[0;34m\u001b[0m\n\u001b[1;32m      1\u001b[0m \u001b[0;32mif\u001b[0m \u001b[0m__name__\u001b[0m \u001b[0;34m==\u001b[0m \u001b[0;34m\"__main__\"\u001b[0m\u001b[0;34m:\u001b[0m\u001b[0;34m\u001b[0m\u001b[0;34m\u001b[0m\u001b[0m\n\u001b[0;32m----> 2\u001b[0;31m     \u001b[0mapp\u001b[0m\u001b[0;34m.\u001b[0m\u001b[0mrun\u001b[0m\u001b[0;34m(\u001b[0m\u001b[0;34m)\u001b[0m\u001b[0;34m\u001b[0m\u001b[0;34m\u001b[0m\u001b[0m\n\u001b[0m\u001b[1;32m      3\u001b[0m \u001b[0;34m\u001b[0m\u001b[0m\n",
      "\u001b[0;32m~/miniconda3/envs/py3.7.3_env/lib/python3.7/site-packages/flask/app.py\u001b[0m in \u001b[0;36mrun\u001b[0;34m(self, host, port, debug, load_dotenv, **options)\u001b[0m\n\u001b[1;32m    942\u001b[0m \u001b[0;34m\u001b[0m\u001b[0m\n\u001b[1;32m    943\u001b[0m         \u001b[0;32mtry\u001b[0m\u001b[0;34m:\u001b[0m\u001b[0;34m\u001b[0m\u001b[0;34m\u001b[0m\u001b[0m\n\u001b[0;32m--> 944\u001b[0;31m             \u001b[0mrun_simple\u001b[0m\u001b[0;34m(\u001b[0m\u001b[0mhost\u001b[0m\u001b[0;34m,\u001b[0m \u001b[0mport\u001b[0m\u001b[0;34m,\u001b[0m \u001b[0mself\u001b[0m\u001b[0;34m,\u001b[0m \u001b[0;34m**\u001b[0m\u001b[0moptions\u001b[0m\u001b[0;34m)\u001b[0m\u001b[0;34m\u001b[0m\u001b[0;34m\u001b[0m\u001b[0m\n\u001b[0m\u001b[1;32m    945\u001b[0m         \u001b[0;32mfinally\u001b[0m\u001b[0;34m:\u001b[0m\u001b[0;34m\u001b[0m\u001b[0;34m\u001b[0m\u001b[0m\n\u001b[1;32m    946\u001b[0m             \u001b[0;31m# reset the first request information if the development server\u001b[0m\u001b[0;34m\u001b[0m\u001b[0;34m\u001b[0m\u001b[0;34m\u001b[0m\u001b[0m\n",
      "\u001b[0;32m~/miniconda3/envs/py3.7.3_env/lib/python3.7/site-packages/werkzeug/serving.py\u001b[0m in \u001b[0;36mrun_simple\u001b[0;34m(hostname, port, application, use_reloader, use_debugger, use_evalex, extra_files, reloader_interval, reloader_type, threaded, processes, request_handler, static_files, passthrough_errors, ssl_context)\u001b[0m\n\u001b[1;32m   1007\u001b[0m         \u001b[0mrun_with_reloader\u001b[0m\u001b[0;34m(\u001b[0m\u001b[0minner\u001b[0m\u001b[0;34m,\u001b[0m \u001b[0mextra_files\u001b[0m\u001b[0;34m,\u001b[0m \u001b[0mreloader_interval\u001b[0m\u001b[0;34m,\u001b[0m \u001b[0mreloader_type\u001b[0m\u001b[0;34m)\u001b[0m\u001b[0;34m\u001b[0m\u001b[0;34m\u001b[0m\u001b[0m\n\u001b[1;32m   1008\u001b[0m     \u001b[0;32melse\u001b[0m\u001b[0;34m:\u001b[0m\u001b[0;34m\u001b[0m\u001b[0;34m\u001b[0m\u001b[0m\n\u001b[0;32m-> 1009\u001b[0;31m         \u001b[0minner\u001b[0m\u001b[0;34m(\u001b[0m\u001b[0;34m)\u001b[0m\u001b[0;34m\u001b[0m\u001b[0;34m\u001b[0m\u001b[0m\n\u001b[0m\u001b[1;32m   1010\u001b[0m \u001b[0;34m\u001b[0m\u001b[0m\n\u001b[1;32m   1011\u001b[0m \u001b[0;34m\u001b[0m\u001b[0m\n",
      "\u001b[0;32m~/miniconda3/envs/py3.7.3_env/lib/python3.7/site-packages/werkzeug/serving.py\u001b[0m in \u001b[0;36minner\u001b[0;34m()\u001b[0m\n\u001b[1;32m    960\u001b[0m             \u001b[0mpassthrough_errors\u001b[0m\u001b[0;34m,\u001b[0m\u001b[0;34m\u001b[0m\u001b[0;34m\u001b[0m\u001b[0m\n\u001b[1;32m    961\u001b[0m             \u001b[0mssl_context\u001b[0m\u001b[0;34m,\u001b[0m\u001b[0;34m\u001b[0m\u001b[0;34m\u001b[0m\u001b[0m\n\u001b[0;32m--> 962\u001b[0;31m             \u001b[0mfd\u001b[0m\u001b[0;34m=\u001b[0m\u001b[0mfd\u001b[0m\u001b[0;34m,\u001b[0m\u001b[0;34m\u001b[0m\u001b[0;34m\u001b[0m\u001b[0m\n\u001b[0m\u001b[1;32m    963\u001b[0m         )\n\u001b[1;32m    964\u001b[0m         \u001b[0;32mif\u001b[0m \u001b[0mfd\u001b[0m \u001b[0;32mis\u001b[0m \u001b[0;32mNone\u001b[0m\u001b[0;34m:\u001b[0m\u001b[0;34m\u001b[0m\u001b[0;34m\u001b[0m\u001b[0m\n",
      "\u001b[0;32m~/miniconda3/envs/py3.7.3_env/lib/python3.7/site-packages/werkzeug/serving.py\u001b[0m in \u001b[0;36mmake_server\u001b[0;34m(host, port, app, threaded, processes, request_handler, passthrough_errors, ssl_context, fd)\u001b[0m\n\u001b[1;32m    803\u001b[0m     \u001b[0;32melif\u001b[0m \u001b[0mthreaded\u001b[0m\u001b[0;34m:\u001b[0m\u001b[0;34m\u001b[0m\u001b[0;34m\u001b[0m\u001b[0m\n\u001b[1;32m    804\u001b[0m         return ThreadedWSGIServer(\n\u001b[0;32m--> 805\u001b[0;31m             \u001b[0mhost\u001b[0m\u001b[0;34m,\u001b[0m \u001b[0mport\u001b[0m\u001b[0;34m,\u001b[0m \u001b[0mapp\u001b[0m\u001b[0;34m,\u001b[0m \u001b[0mrequest_handler\u001b[0m\u001b[0;34m,\u001b[0m \u001b[0mpassthrough_errors\u001b[0m\u001b[0;34m,\u001b[0m \u001b[0mssl_context\u001b[0m\u001b[0;34m,\u001b[0m \u001b[0mfd\u001b[0m\u001b[0;34m=\u001b[0m\u001b[0mfd\u001b[0m\u001b[0;34m\u001b[0m\u001b[0;34m\u001b[0m\u001b[0m\n\u001b[0m\u001b[1;32m    806\u001b[0m         )\n\u001b[1;32m    807\u001b[0m     \u001b[0;32melif\u001b[0m \u001b[0mprocesses\u001b[0m \u001b[0;34m>\u001b[0m \u001b[0;36m1\u001b[0m\u001b[0;34m:\u001b[0m\u001b[0;34m\u001b[0m\u001b[0;34m\u001b[0m\u001b[0m\n",
      "\u001b[0;32m~/miniconda3/envs/py3.7.3_env/lib/python3.7/site-packages/werkzeug/serving.py\u001b[0m in \u001b[0;36m__init__\u001b[0;34m(self, host, port, app, handler, passthrough_errors, ssl_context, fd)\u001b[0m\n\u001b[1;32m    696\u001b[0m         \u001b[0;32mif\u001b[0m \u001b[0mself\u001b[0m\u001b[0;34m.\u001b[0m\u001b[0maddress_family\u001b[0m \u001b[0;34m==\u001b[0m \u001b[0maf_unix\u001b[0m \u001b[0;32mand\u001b[0m \u001b[0mos\u001b[0m\u001b[0;34m.\u001b[0m\u001b[0mpath\u001b[0m\u001b[0;34m.\u001b[0m\u001b[0mexists\u001b[0m\u001b[0;34m(\u001b[0m\u001b[0mserver_address\u001b[0m\u001b[0;34m)\u001b[0m\u001b[0;34m:\u001b[0m\u001b[0;34m\u001b[0m\u001b[0;34m\u001b[0m\u001b[0m\n\u001b[1;32m    697\u001b[0m             \u001b[0mos\u001b[0m\u001b[0;34m.\u001b[0m\u001b[0munlink\u001b[0m\u001b[0;34m(\u001b[0m\u001b[0mserver_address\u001b[0m\u001b[0;34m)\u001b[0m\u001b[0;34m\u001b[0m\u001b[0;34m\u001b[0m\u001b[0m\n\u001b[0;32m--> 698\u001b[0;31m         \u001b[0mHTTPServer\u001b[0m\u001b[0;34m.\u001b[0m\u001b[0m__init__\u001b[0m\u001b[0;34m(\u001b[0m\u001b[0mself\u001b[0m\u001b[0;34m,\u001b[0m \u001b[0mserver_address\u001b[0m\u001b[0;34m,\u001b[0m \u001b[0mhandler\u001b[0m\u001b[0;34m)\u001b[0m\u001b[0;34m\u001b[0m\u001b[0;34m\u001b[0m\u001b[0m\n\u001b[0m\u001b[1;32m    699\u001b[0m \u001b[0;34m\u001b[0m\u001b[0m\n\u001b[1;32m    700\u001b[0m         \u001b[0mself\u001b[0m\u001b[0;34m.\u001b[0m\u001b[0mapp\u001b[0m \u001b[0;34m=\u001b[0m \u001b[0mapp\u001b[0m\u001b[0;34m\u001b[0m\u001b[0;34m\u001b[0m\u001b[0m\n",
      "\u001b[0;32m~/miniconda3/envs/py3.7.3_env/lib/python3.7/socketserver.py\u001b[0m in \u001b[0;36m__init__\u001b[0;34m(self, server_address, RequestHandlerClass, bind_and_activate)\u001b[0m\n\u001b[1;32m    450\u001b[0m         \u001b[0;32mif\u001b[0m \u001b[0mbind_and_activate\u001b[0m\u001b[0;34m:\u001b[0m\u001b[0;34m\u001b[0m\u001b[0;34m\u001b[0m\u001b[0m\n\u001b[1;32m    451\u001b[0m             \u001b[0;32mtry\u001b[0m\u001b[0;34m:\u001b[0m\u001b[0;34m\u001b[0m\u001b[0;34m\u001b[0m\u001b[0m\n\u001b[0;32m--> 452\u001b[0;31m                 \u001b[0mself\u001b[0m\u001b[0;34m.\u001b[0m\u001b[0mserver_bind\u001b[0m\u001b[0;34m(\u001b[0m\u001b[0;34m)\u001b[0m\u001b[0;34m\u001b[0m\u001b[0;34m\u001b[0m\u001b[0m\n\u001b[0m\u001b[1;32m    453\u001b[0m                 \u001b[0mself\u001b[0m\u001b[0;34m.\u001b[0m\u001b[0mserver_activate\u001b[0m\u001b[0;34m(\u001b[0m\u001b[0;34m)\u001b[0m\u001b[0;34m\u001b[0m\u001b[0;34m\u001b[0m\u001b[0m\n\u001b[1;32m    454\u001b[0m             \u001b[0;32mexcept\u001b[0m\u001b[0;34m:\u001b[0m\u001b[0;34m\u001b[0m\u001b[0;34m\u001b[0m\u001b[0m\n",
      "\u001b[0;32m~/miniconda3/envs/py3.7.3_env/lib/python3.7/http/server.py\u001b[0m in \u001b[0;36mserver_bind\u001b[0;34m(self)\u001b[0m\n\u001b[1;32m    135\u001b[0m     \u001b[0;32mdef\u001b[0m \u001b[0mserver_bind\u001b[0m\u001b[0;34m(\u001b[0m\u001b[0mself\u001b[0m\u001b[0;34m)\u001b[0m\u001b[0;34m:\u001b[0m\u001b[0;34m\u001b[0m\u001b[0;34m\u001b[0m\u001b[0m\n\u001b[1;32m    136\u001b[0m         \u001b[0;34m\"\"\"Override server_bind to store the server name.\"\"\"\u001b[0m\u001b[0;34m\u001b[0m\u001b[0;34m\u001b[0m\u001b[0m\n\u001b[0;32m--> 137\u001b[0;31m         \u001b[0msocketserver\u001b[0m\u001b[0;34m.\u001b[0m\u001b[0mTCPServer\u001b[0m\u001b[0;34m.\u001b[0m\u001b[0mserver_bind\u001b[0m\u001b[0;34m(\u001b[0m\u001b[0mself\u001b[0m\u001b[0;34m)\u001b[0m\u001b[0;34m\u001b[0m\u001b[0;34m\u001b[0m\u001b[0m\n\u001b[0m\u001b[1;32m    138\u001b[0m         \u001b[0mhost\u001b[0m\u001b[0;34m,\u001b[0m \u001b[0mport\u001b[0m \u001b[0;34m=\u001b[0m \u001b[0mself\u001b[0m\u001b[0;34m.\u001b[0m\u001b[0mserver_address\u001b[0m\u001b[0;34m[\u001b[0m\u001b[0;34m:\u001b[0m\u001b[0;36m2\u001b[0m\u001b[0;34m]\u001b[0m\u001b[0;34m\u001b[0m\u001b[0;34m\u001b[0m\u001b[0m\n\u001b[1;32m    139\u001b[0m         \u001b[0mself\u001b[0m\u001b[0;34m.\u001b[0m\u001b[0mserver_name\u001b[0m \u001b[0;34m=\u001b[0m \u001b[0msocket\u001b[0m\u001b[0;34m.\u001b[0m\u001b[0mgetfqdn\u001b[0m\u001b[0;34m(\u001b[0m\u001b[0mhost\u001b[0m\u001b[0;34m)\u001b[0m\u001b[0;34m\u001b[0m\u001b[0;34m\u001b[0m\u001b[0m\n",
      "\u001b[0;32m~/miniconda3/envs/py3.7.3_env/lib/python3.7/socketserver.py\u001b[0m in \u001b[0;36mserver_bind\u001b[0;34m(self)\u001b[0m\n\u001b[1;32m    464\u001b[0m         \u001b[0;32mif\u001b[0m \u001b[0mself\u001b[0m\u001b[0;34m.\u001b[0m\u001b[0mallow_reuse_address\u001b[0m\u001b[0;34m:\u001b[0m\u001b[0;34m\u001b[0m\u001b[0;34m\u001b[0m\u001b[0m\n\u001b[1;32m    465\u001b[0m             \u001b[0mself\u001b[0m\u001b[0;34m.\u001b[0m\u001b[0msocket\u001b[0m\u001b[0;34m.\u001b[0m\u001b[0msetsockopt\u001b[0m\u001b[0;34m(\u001b[0m\u001b[0msocket\u001b[0m\u001b[0;34m.\u001b[0m\u001b[0mSOL_SOCKET\u001b[0m\u001b[0;34m,\u001b[0m \u001b[0msocket\u001b[0m\u001b[0;34m.\u001b[0m\u001b[0mSO_REUSEADDR\u001b[0m\u001b[0;34m,\u001b[0m \u001b[0;36m1\u001b[0m\u001b[0;34m)\u001b[0m\u001b[0;34m\u001b[0m\u001b[0;34m\u001b[0m\u001b[0m\n\u001b[0;32m--> 466\u001b[0;31m         \u001b[0mself\u001b[0m\u001b[0;34m.\u001b[0m\u001b[0msocket\u001b[0m\u001b[0;34m.\u001b[0m\u001b[0mbind\u001b[0m\u001b[0;34m(\u001b[0m\u001b[0mself\u001b[0m\u001b[0;34m.\u001b[0m\u001b[0mserver_address\u001b[0m\u001b[0;34m)\u001b[0m\u001b[0;34m\u001b[0m\u001b[0;34m\u001b[0m\u001b[0m\n\u001b[0m\u001b[1;32m    467\u001b[0m         \u001b[0mself\u001b[0m\u001b[0;34m.\u001b[0m\u001b[0mserver_address\u001b[0m \u001b[0;34m=\u001b[0m \u001b[0mself\u001b[0m\u001b[0;34m.\u001b[0m\u001b[0msocket\u001b[0m\u001b[0;34m.\u001b[0m\u001b[0mgetsockname\u001b[0m\u001b[0;34m(\u001b[0m\u001b[0;34m)\u001b[0m\u001b[0;34m\u001b[0m\u001b[0;34m\u001b[0m\u001b[0m\n\u001b[1;32m    468\u001b[0m \u001b[0;34m\u001b[0m\u001b[0m\n",
      "\u001b[0;31mOSError\u001b[0m: [Errno 98] Address already in use"
     ]
    }
   ],
   "source": [
    "if __name__ == \"__main__\":\n",
    "    app.run()\n",
    "    "
   ]
  },
  {
   "cell_type": "code",
   "execution_count": null,
   "metadata": {},
   "outputs": [],
   "source": []
  },
  {
   "cell_type": "code",
   "execution_count": null,
   "metadata": {},
   "outputs": [],
   "source": []
  },
  {
   "cell_type": "code",
   "execution_count": null,
   "metadata": {},
   "outputs": [],
   "source": []
  },
  {
   "cell_type": "code",
   "execution_count": null,
   "metadata": {},
   "outputs": [],
   "source": []
  },
  {
   "cell_type": "code",
   "execution_count": null,
   "metadata": {},
   "outputs": [],
   "source": []
  },
  {
   "cell_type": "code",
   "execution_count": null,
   "metadata": {},
   "outputs": [],
   "source": []
  }
 ],
 "metadata": {
  "kernelspec": {
   "display_name": "Python 3",
   "language": "python",
   "name": "python3"
  },
  "language_info": {
   "codemirror_mode": {
    "name": "ipython",
    "version": 3
   },
   "file_extension": ".py",
   "mimetype": "text/x-python",
   "name": "python",
   "nbconvert_exporter": "python",
   "pygments_lexer": "ipython3",
   "version": "3.7.3"
  }
 },
 "nbformat": 4,
 "nbformat_minor": 2
}
